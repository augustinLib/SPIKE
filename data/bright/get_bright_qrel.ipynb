{
 "cells": [
  {
   "cell_type": "code",
   "execution_count": 1,
   "metadata": {},
   "outputs": [],
   "source": [
    "from datasets import load_dataset\n",
    "import pandas as pd\n",
    "import os"
   ]
  },
  {
   "cell_type": "code",
   "execution_count": null,
   "metadata": {},
   "outputs": [],
   "source": [
    "examples = load_dataset(\"xlangai/BRIGHT\", \"examples\", cache_dir=\"./\")\n",
    "dataset_list = list(examples.keys())"
   ]
  },
  {
   "cell_type": "code",
   "execution_count": null,
   "metadata": {},
   "outputs": [],
   "source": [
    "from tqdm import tqdm\n",
    "for dataset in tqdm(dataset_list):\n",
    "    query = examples[dataset].to_pandas()\n",
    "    gold_id_list = []\n",
    "    query_list = []\n",
    "    qid_list = []\n",
    "    for i in range(len(query)):\n",
    "        q = query.loc[i, \"query\"]\n",
    "        qid = query.loc[i, \"id\"]\n",
    "        gold_ids = query.loc[i, \"gold_ids\"]\n",
    "        \n",
    "        for gold_id in gold_ids:\n",
    "            gold_id_list.append(gold_id)\n",
    "            query_list.append(q)\n",
    "            qid_list.append(qid)\n",
    "\n",
    "    qrel = pd.DataFrame({\"query\": query_list, \"query-id\": qid_list, \"corpus-id\": gold_id_list, \"score\": 1})\n",
    "    qrel.to_parquet(f\"./BRIGHT/{dataset}/qrel.parquet\")"
   ]
  }
 ],
 "metadata": {
  "kernelspec": {
   "display_name": "base",
   "language": "python",
   "name": "python3"
  },
  "language_info": {
   "codemirror_mode": {
    "name": "ipython",
    "version": 3
   },
   "file_extension": ".py",
   "mimetype": "text/x-python",
   "name": "python",
   "nbconvert_exporter": "python",
   "pygments_lexer": "ipython3",
   "version": "3.10.13"
  }
 },
 "nbformat": 4,
 "nbformat_minor": 2
}
