{
 "cells": [
  {
   "cell_type": "code",
   "execution_count": null,
   "metadata": {},
   "outputs": [],
   "source": [
    "from datasets import load_dataset\n",
    "import pandas as pd\n",
    "import os"
   ]
  },
  {
   "cell_type": "code",
   "execution_count": null,
   "metadata": {},
   "outputs": [],
   "source": [
    "ds = load_dataset(\"xlangai/BRIGHT\", \"documents\", cache_dir=\"./\")\n",
    "examples = load_dataset(\"xlangai/BRIGHT\", \"examples\", cache_dir=\"./\")\n",
    "gpt4_reason = load_dataset(\"xlangai/BRIGHT\", \"gpt4_reason\", cache_dir=\"./\")"
   ]
  },
  {
   "cell_type": "code",
   "execution_count": null,
   "metadata": {},
   "outputs": [],
   "source": [
    "dataset_list = list(examples.keys())\n",
    "dataset_list\n",
    "    "
   ]
  },
  {
   "cell_type": "code",
   "execution_count": 5,
   "metadata": {},
   "outputs": [],
   "source": [
    "for dataset in dataset_list:\n",
    "    os.makedirs(f\"./BRIGHT/{dataset}\", exist_ok=True)\n",
    "    query = examples[dataset].to_pandas()\n",
    "    gpt4_reason_query = gpt4_reason[dataset].to_pandas()\n",
    "    query = query[[\"query\", \"id\", \"excluded_ids\"]]\n",
    "    gpt4_reason_query = gpt4_reason_query[[\"query\", \"id\", \"excluded_ids\"]]\n",
    "    query.columns = [\"query\", \"query-id\", \"excluded_ids\"]\n",
    "    gpt4_reason_query.columns = [\"query\", \"query-id\", \"excluded_ids\"]\n",
    "    for i in range(len(query)):\n",
    "        query.loc[i, \"excluded_ids\"] = list(query.loc[i, \"excluded_ids\"])\n",
    "        gpt4_reason_query.loc[i, \"excluded_ids\"] = list(gpt4_reason_query.loc[i, \"excluded_ids\"])\n",
    "        if query.loc[i, \"excluded_ids\"] == [\"N/A\"]:\n",
    "            query.loc[i, \"excluded_ids\"] = []\n",
    "\n",
    "        if gpt4_reason_query.loc[i, \"excluded_ids\"] == [\"N/A\"]:\n",
    "            gpt4_reason_query.loc[i, \"excluded_ids\"] = []\n",
    "\n",
    "    query.to_parquet(f\"./BRIGHT/{dataset}/query.parquet\")\n",
    "    gpt4_reason_query.to_parquet(f\"./BRIGHT/{dataset}/gpt4_reason_query.parquet\")\n",
    "\n"
   ]
  }
 ],
 "metadata": {
  "kernelspec": {
   "display_name": "base",
   "language": "python",
   "name": "python3"
  },
  "language_info": {
   "codemirror_mode": {
    "name": "ipython",
    "version": 3
   },
   "file_extension": ".py",
   "mimetype": "text/x-python",
   "name": "python",
   "nbconvert_exporter": "python",
   "pygments_lexer": "ipython3",
   "version": "3.10.13"
  }
 },
 "nbformat": 4,
 "nbformat_minor": 2
}
